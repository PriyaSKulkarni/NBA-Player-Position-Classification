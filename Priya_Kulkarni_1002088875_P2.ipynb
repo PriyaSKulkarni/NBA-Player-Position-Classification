{
 "cells": [
  {
   "cell_type": "code",
   "execution_count": 3,
   "id": "a7bcc8b4",
   "metadata": {},
   "outputs": [
    {
     "name": "stdout",
     "output_type": "stream",
     "text": [
      "Training set score: 0.573\n",
      "Test set score: 0.536\n",
      "Confusion matrix:\n",
      "Predicted   C  PF  PG  SF  SG  All\n",
      "True                              \n",
      "C          16   4   0   0   0   20\n",
      "PF          2  11   4   2   1   20\n",
      "PG          0   1  17   0  10   28\n",
      "SF          0   8   2   5   8   23\n",
      "SG          0   5   9   2  18   34\n",
      "All        18  29  32   9  37  125\n",
      "Cross-validation results: [0.54       0.44       0.62       0.48       0.58       0.44\n",
      " 0.46       0.53061224 0.59183673 0.55102041]\n",
      "Mean accuracy across folds: 0.523\n"
     ]
    }
   ],
   "source": [
    "import numpy as np\n",
    "import pandas as pd\n",
    "from sklearn.neural_network import MLPClassifier\n",
    "from sklearn.model_selection import train_test_split\n",
    "from sklearn.metrics import accuracy_score, confusion_matrix\n",
    "from sklearn.preprocessing import StandardScaler\n",
    "from sklearn.model_selection import cross_val_score\n",
    "\n",
    "file_path = './nba2021.csv'\n",
    "df = pd.read_csv(file_path)\n",
    "\n",
    "# Drop irrelevant columns\n",
    "df = df.drop(['Player', 'Tm', 'Age', 'FG','FGA','3P','3PA','2P','2PA','FT','FTA' ,'PTS', 'DRB', 'ORB', 'GS','G'], axis=1)\n",
    "#print(df.columns)\n",
    "\n",
    "# Split the data into features and labels\n",
    "X = df.drop('Pos', axis=1)\n",
    "y = df['Pos']\n",
    "\n",
    "scaler = StandardScaler()\n",
    "X = scaler.fit_transform(X)\n",
    "# Split the data into training and testing sets\n",
    "X_train, X_test, y_train, y_test = train_test_split(X, y, test_size=0.25, random_state=1)\n",
    "\n",
    "# Initialize and train the Random Forest classifier\n",
    "rf_classifier = MLPClassifier(activation=\"identity\",solver='lbfgs', alpha=1e-7, hidden_layer_sizes=(100,))\n",
    "rf_classifier.fit(X_train, y_train)\n",
    "\n",
    "print(\"Training set score: {:.3f}\".format(rf_classifier.score(X_train, y_train)))\n",
    "print(\"Test set score: {:.3f}\".format(rf_classifier.score(X_test,y_test)))\n",
    "\n",
    "prediction = rf_classifier.predict(X_test)\n",
    "print(\"Confusion matrix:\")\n",
    "print(pd.crosstab(y_test, prediction, rownames=['True'], colnames=['Predicted'], margins=True))\n",
    "\n",
    "cross_val_results = cross_val_score(rf_classifier, X, y, cv=10)  # 10-fold cross-validation\n",
    "print('Cross-validation results:', cross_val_results)\n",
    "print('Mean accuracy across folds: {:.3f}'.format(cross_val_results.mean()))"
   ]
  },
  {
   "cell_type": "code",
   "execution_count": null,
   "id": "f61b3f0e",
   "metadata": {},
   "outputs": [],
   "source": []
  }
 ],
 "metadata": {
  "kernelspec": {
   "display_name": "Python 3 (ipykernel)",
   "language": "python",
   "name": "python3"
  },
  "language_info": {
   "codemirror_mode": {
    "name": "ipython",
    "version": 3
   },
   "file_extension": ".py",
   "mimetype": "text/x-python",
   "name": "python",
   "nbconvert_exporter": "python",
   "pygments_lexer": "ipython3",
   "version": "3.11.4"
  }
 },
 "nbformat": 4,
 "nbformat_minor": 5
}
